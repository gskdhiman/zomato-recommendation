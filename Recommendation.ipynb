{
 "cells": [
  {
   "cell_type": "code",
   "execution_count": 29,
   "metadata": {},
   "outputs": [],
   "source": [
    "# main code is implmented in backend_code\n",
    "from backend_code import restaurant_recommend,df,df,cost_for_two"
   ]
  },
  {
   "cell_type": "code",
   "execution_count": 30,
   "metadata": {},
   "outputs": [],
   "source": [
    "locations = df['location'].unique().tolist()\n",
    "cuisines = df.cuisines.str.cat(sep =',').split(',')\n",
    "cuisines = set([x.strip() for x in cuisines])\n",
    "options = {'LOCATION':locations,'CUISINE':cuisines}"
   ]
  },
  {
   "cell_type": "code",
   "execution_count": 31,
   "metadata": {},
   "outputs": [
    {
     "data": {
      "application/vnd.jupyter.widget-view+json": {
       "model_id": "ce3869897df9431899b7009fafeb3753",
       "version_major": 2,
       "version_minor": 0
      },
      "text/plain": [
       "VBox(children=(Dropdown(description='LOCATION', options=('Indiranagar', 'Koramangala 5th Block', 'BTM', 'Marat…"
      ]
     },
     "metadata": {},
     "output_type": "display_data"
    },
    {
     "data": {
      "application/vnd.jupyter.widget-view+json": {
       "model_id": "467359841d1742839e883355c1fec5c6",
       "version_major": 2,
       "version_minor": 0
      },
      "text/plain": [
       "IntSlider(value=500, description='BUDGET:', max=4000, step=100)"
      ]
     },
     "metadata": {},
     "output_type": "display_data"
    },
    {
     "name": "stdout",
     "output_type": "stream",
     "text": [
      "USER INPUT: best north indian food\n"
     ]
    }
   ],
   "source": [
    "import ipywidgets as widgets                        # Creating widgets\n",
    "from IPython.display import display                 # Displaying widgets\n",
    "\n",
    "\n",
    "output = widgets.Output()\n",
    "# Creating dropdown objects\n",
    "dropdownobjects =[widgets.Dropdown(options = options[key], description=key) for key in options]\n",
    "\n",
    "# Display the dropdowns\n",
    "input_widgets = widgets.VBox(dropdownobjects)\n",
    "display(input_widgets)\n",
    "\n",
    "budget_widget = widgets.IntSlider(\n",
    "    min=0,\n",
    "    max=max(df[cost_for_two]),\n",
    "    step=100,\n",
    "    description='BUDGET:',\n",
    "    value=500\n",
    ")\n",
    "display(budget_widget)\n",
    "user_input_text = input(\"USER INPUT: \")"
   ]
  },
  {
   "cell_type": "code",
   "execution_count": 38,
   "metadata": {},
   "outputs": [
    {
     "name": "stdout",
     "output_type": "stream",
     "text": [
      "best north indian food\n",
      "Koramangala 8th Block\n",
      "North Indian\n",
      "2700\n"
     ]
    }
   ],
   "source": [
    "choosen = {key: choice.value for key,choice in zip(options.keys(),dropdownobjects)}\n",
    "print(f\"\"\"{user_input_text}\\n{choosen['LOCATION']}\\n{choosen['CUISINE']}\\n{budget_widget.value}\"\"\")"
   ]
  },
  {
   "cell_type": "code",
   "execution_count": 39,
   "metadata": {},
   "outputs": [],
   "source": [
    "recomm,time_taken = restaurant_recommend(user_input_text,\n",
    "                     budget = budget_widget.value,\n",
    "                     location = choosen['LOCATION'],\n",
    "                     cuisine_type= choosen['CUISINE'])"
   ]
  },
  {
   "cell_type": "code",
   "execution_count": 40,
   "metadata": {},
   "outputs": [
    {
     "data": {
      "text/plain": [
       "[(\"Kitchen's Sea Food Restaurant\", '88.0 %')]"
      ]
     },
     "execution_count": 40,
     "metadata": {},
     "output_type": "execute_result"
    }
   ],
   "source": [
    "recomm"
   ]
  },
  {
   "cell_type": "code",
   "execution_count": null,
   "metadata": {},
   "outputs": [],
   "source": []
  }
 ],
 "metadata": {
  "kernelspec": {
   "display_name": "Python 3",
   "language": "python",
   "name": "python3"
  },
  "language_info": {
   "codemirror_mode": {
    "name": "ipython",
    "version": 3
   },
   "file_extension": ".py",
   "mimetype": "text/x-python",
   "name": "python",
   "nbconvert_exporter": "python",
   "pygments_lexer": "ipython3",
   "version": "3.7.3"
  }
 },
 "nbformat": 4,
 "nbformat_minor": 4
}
