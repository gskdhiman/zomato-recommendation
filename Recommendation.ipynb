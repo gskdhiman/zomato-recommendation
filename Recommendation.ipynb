{
 "cells": [
  {
   "cell_type": "code",
   "execution_count": 2,
   "metadata": {},
   "outputs": [],
   "source": [
    "# main code is implmented in backend_code\n",
    "from backend_code import restaurant_recommend,df,df,cost_for_two"
   ]
  },
  {
   "cell_type": "code",
   "execution_count": 3,
   "metadata": {},
   "outputs": [],
   "source": [
    "locations = df['location'].unique().tolist()\n",
    "locations.insert(0,None)\n",
    "cuisines = df.cuisines.str.cat(sep =',').split(',')\n",
    "cuisines = list(set([x.strip() for x in cuisines]))\n",
    "cuisines.insert(0,None)\n",
    "options = {'LOCATION':locations,'CUISINE':cuisines}"
   ]
  },
  {
   "cell_type": "code",
   "execution_count": 23,
   "metadata": {},
   "outputs": [
    {
     "data": {
      "application/vnd.jupyter.widget-view+json": {
       "model_id": "5b64efeacd3548bf87ebf73774e8e1d8",
       "version_major": 2,
       "version_minor": 0
      },
      "text/plain": [
       "VBox(children=(Dropdown(description='LOCATION', options=(None, 'Indiranagar', 'Koramangala 5th Block', 'BTM', …"
      ]
     },
     "metadata": {},
     "output_type": "display_data"
    },
    {
     "data": {
      "application/vnd.jupyter.widget-view+json": {
       "model_id": "da2e6ad95c3d4fa4b14dc674d75098ae",
       "version_major": 2,
       "version_minor": 0
      },
      "text/plain": [
       "IntSlider(value=500, description='BUDGET:', max=4000, step=100)"
      ]
     },
     "metadata": {},
     "output_type": "display_data"
    },
    {
     "name": "stdout",
     "output_type": "stream",
     "text": [
      "USER INPUT: lassi and paratha\n"
     ]
    }
   ],
   "source": [
    "import ipywidgets as widgets                        # Creating widgets\n",
    "from IPython.display import display                 # Displaying widgets\n",
    "\n",
    "\n",
    "output = widgets.Output()\n",
    "# Creating dropdown objects\n",
    "dropdownobjects =[widgets.Dropdown(options = options[key], description=key) for key in options]\n",
    "\n",
    "# Display the dropdowns\n",
    "input_widgets = widgets.VBox(dropdownobjects)\n",
    "display(input_widgets)\n",
    "\n",
    "budget_widget = widgets.IntSlider(\n",
    "    min=0,\n",
    "    max=max(df[cost_for_two]),\n",
    "    step=100,\n",
    "    description='BUDGET:',\n",
    "    value=500\n",
    ")\n",
    "display(budget_widget)\n",
    "user_input_text = input(\"USER INPUT: \")"
   ]
  },
  {
   "cell_type": "code",
   "execution_count": 27,
   "metadata": {},
   "outputs": [
    {
     "name": "stdout",
     "output_type": "stream",
     "text": [
      "lassi and paratha\n",
      "BTM\n",
      "None\n",
      "2700\n"
     ]
    }
   ],
   "source": [
    "choosen = {key: choice.value for key,choice in zip(options.keys(),dropdownobjects)}\n",
    "print(f\"\"\"{user_input_text}\\n{choosen['LOCATION']}\\n{choosen['CUISINE']}\\n{budget_widget.value}\"\"\")"
   ]
  },
  {
   "cell_type": "code",
   "execution_count": 28,
   "metadata": {},
   "outputs": [],
   "source": [
    "recomm,time_taken = restaurant_recommend(user_input_text,\n",
    "                     budget = budget_widget.value,\n",
    "                     location = choosen['LOCATION'],\n",
    "                     cuisine_type= choosen['CUISINE'])"
   ]
  },
  {
   "cell_type": "code",
   "execution_count": 29,
   "metadata": {},
   "outputs": [
    {
     "data": {
      "text/html": [
       "<div>\n",
       "<style scoped>\n",
       "    .dataframe tbody tr th:only-of-type {\n",
       "        vertical-align: middle;\n",
       "    }\n",
       "\n",
       "    .dataframe tbody tr th {\n",
       "        vertical-align: top;\n",
       "    }\n",
       "\n",
       "    .dataframe thead th {\n",
       "        text-align: right;\n",
       "    }\n",
       "</style>\n",
       "<table border=\"1\" class=\"dataframe\">\n",
       "  <thead>\n",
       "    <tr style=\"text-align: right;\">\n",
       "      <th></th>\n",
       "      <th>Restaurants</th>\n",
       "      <th>% Match</th>\n",
       "    </tr>\n",
       "  </thead>\n",
       "  <tbody>\n",
       "    <tr>\n",
       "      <th>0</th>\n",
       "      <td>Baba Ka Dhaba</td>\n",
       "      <td>95.0 %</td>\n",
       "    </tr>\n",
       "    <tr>\n",
       "      <th>1</th>\n",
       "      <td>Sri Sapana Dhaba</td>\n",
       "      <td>94.0 %</td>\n",
       "    </tr>\n",
       "    <tr>\n",
       "      <th>2</th>\n",
       "      <td>Gyani Da Punjabi Dhaba</td>\n",
       "      <td>92.0 %</td>\n",
       "    </tr>\n",
       "  </tbody>\n",
       "</table>\n",
       "</div>"
      ],
      "text/plain": [
       "              Restaurants % Match\n",
       "0           Baba Ka Dhaba  95.0 %\n",
       "1        Sri Sapana Dhaba  94.0 %\n",
       "2  Gyani Da Punjabi Dhaba  92.0 %"
      ]
     },
     "execution_count": 29,
     "metadata": {},
     "output_type": "execute_result"
    }
   ],
   "source": [
    "import pandas as pd\n",
    "pd.DataFrame(recomm,columns=['Restaurants','% Match'])"
   ]
  }
 ],
 "metadata": {
  "kernelspec": {
   "display_name": "Python 3",
   "language": "python",
   "name": "python3"
  },
  "language_info": {
   "codemirror_mode": {
    "name": "ipython",
    "version": 3
   },
   "file_extension": ".py",
   "mimetype": "text/x-python",
   "name": "python",
   "nbconvert_exporter": "python",
   "pygments_lexer": "ipython3",
   "version": "3.7.3"
  }
 },
 "nbformat": 4,
 "nbformat_minor": 4
}
